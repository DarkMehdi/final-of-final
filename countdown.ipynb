{
 "cells": [
  {
   "cell_type": "code",
   "execution_count": 4,
   "metadata": {},
   "outputs": [
    {
     "name": "stdout",
     "output_type": "stream",
     "text": [
      "FIRE IN THE HOOOOLE !!!\n"
     ]
    }
   ],
   "source": [
    "import time\n",
    "duration=int(input(\"Please enter the duration in seconds:  \"))\n",
    "\n",
    "def countdown(t : int):\n",
    "    while t>0:\n",
    "        d=divmod(t,60)\n",
    "        print(f\"{d[0]}:{d[1]}\", end='\\r')\n",
    "        time.sleep(1)\n",
    "        t-=1\n",
    "    print(\"FIRE IN THE HOOOOLE !!!\")\n",
    "countdown(duration)"
   ]
  }
 ],
 "metadata": {
  "kernelspec": {
   "display_name": "Python 3.10.6 64-bit (windows store)",
   "language": "python",
   "name": "python3"
  },
  "language_info": {
   "codemirror_mode": {
    "name": "ipython",
    "version": 3
   },
   "file_extension": ".py",
   "mimetype": "text/x-python",
   "name": "python",
   "nbconvert_exporter": "python",
   "pygments_lexer": "ipython3",
   "version": "3.10.6"
  },
  "orig_nbformat": 4,
  "vscode": {
   "interpreter": {
    "hash": "b2c647202fd92a8243df08cbefe5e2fc491585904a9553be3beec1ce7c610a24"
   }
  }
 },
 "nbformat": 4,
 "nbformat_minor": 2
}
